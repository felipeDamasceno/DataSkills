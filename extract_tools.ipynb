{
 "cells": [
  {
   "cell_type": "markdown",
   "id": "e321ae20",
   "metadata": {},
   "source": [
    "### Notebook Goal:\n",
    "The goal of this notebook is to extract a few data science and data analysis tools mentioned in the job descriptions and save it all in the MySQL database."
   ]
  },
  {
   "cell_type": "code",
   "execution_count": 1,
   "id": "841c27a3",
   "metadata": {},
   "outputs": [],
   "source": [
    "import sqlalchemy as db\n",
    "\n",
    "import pandas as pd\n",
    "import yaml\n",
    "import re"
   ]
  },
  {
   "cell_type": "markdown",
   "id": "cb29f1af",
   "metadata": {},
   "source": [
    "### Extract tools from job description"
   ]
  },
  {
   "cell_type": "code",
   "execution_count": 2,
   "id": "823bd2f0",
   "metadata": {},
   "outputs": [
    {
     "data": {
      "text/plain": [
       "<sqlalchemy.engine.base.Connection at 0x23370b406a0>"
      ]
     },
     "execution_count": 2,
     "metadata": {},
     "output_type": "execute_result"
    }
   ],
   "source": [
    "# Connect to MySQL\n",
    "credentials = yaml.full_load(open('./credentials.yml'))\n",
    "user = credentials['database']['username']\n",
    "password = credentials['database']['password']\n",
    "host = credentials['database']['hostname']\n",
    "database = 'indeed_jobs'\n",
    "\n",
    "string_conexao = f'mysql://{user}:{password}@{host}/{database}'\n",
    "engine = db.create_engine(string_conexao)\n",
    "conn = engine.connect()\n",
    "conn"
   ]
  },
  {
   "cell_type": "code",
   "execution_count": 3,
   "id": "ecfc3dac",
   "metadata": {},
   "outputs": [
    {
     "name": "stdout",
     "output_type": "stream",
     "text": [
      "['id', 'indeed_link', 'description', 'indeed_title', 'position', 'location']\n"
     ]
    }
   ],
   "source": [
    "metadata = db.MetaData()\n",
    "job = db.Table('job_descriptions', metadata, autoload_with=engine)\n",
    "\n",
    "print(job.columns.keys())"
   ]
  },
  {
   "cell_type": "code",
   "execution_count": 4,
   "id": "e736ab0b",
   "metadata": {},
   "outputs": [
    {
     "data": {
      "text/html": [
       "<div>\n",
       "<style scoped>\n",
       "    .dataframe tbody tr th:only-of-type {\n",
       "        vertical-align: middle;\n",
       "    }\n",
       "\n",
       "    .dataframe tbody tr th {\n",
       "        vertical-align: top;\n",
       "    }\n",
       "\n",
       "    .dataframe thead th {\n",
       "        text-align: right;\n",
       "    }\n",
       "</style>\n",
       "<table border=\"1\" class=\"dataframe\">\n",
       "  <thead>\n",
       "    <tr style=\"text-align: right;\">\n",
       "      <th></th>\n",
       "      <th>id</th>\n",
       "      <th>indeed_link</th>\n",
       "      <th>description</th>\n",
       "      <th>indeed_title</th>\n",
       "      <th>position</th>\n",
       "      <th>location</th>\n",
       "    </tr>\n",
       "  </thead>\n",
       "  <tbody>\n",
       "    <tr>\n",
       "      <th>0</th>\n",
       "      <td>1</td>\n",
       "      <td>https://br.indeed.com/rc/clk?jk=6ac6aac0697797...</td>\n",
       "      <td>Somos uma empresa apaixonada por pessoas, paut...</td>\n",
       "      <td>Cientista de Dados - Junior (Remoto)</td>\n",
       "      <td>Cientista de Dados</td>\n",
       "      <td>Remoto</td>\n",
       "    </tr>\n",
       "    <tr>\n",
       "      <th>1</th>\n",
       "      <td>2</td>\n",
       "      <td>https://br.indeed.com/rc/clk?jk=45466838932b13...</td>\n",
       "      <td>Somos uma logtech líder no segmento de transpo...</td>\n",
       "      <td>CIENTISTA DE DADOS (REMOTO)</td>\n",
       "      <td>Cientista de Dados</td>\n",
       "      <td>Remoto</td>\n",
       "    </tr>\n",
       "    <tr>\n",
       "      <th>2</th>\n",
       "      <td>3</td>\n",
       "      <td>https://br.indeed.com/rc/clk?jk=88183160ba6b40...</td>\n",
       "      <td>Aqui na Provu, foco, responsabilidade, coopera...</td>\n",
       "      <td>Cientista de Dados Pleno</td>\n",
       "      <td>Cientista de Dados</td>\n",
       "      <td>Remoto</td>\n",
       "    </tr>\n",
       "    <tr>\n",
       "      <th>3</th>\n",
       "      <td>4</td>\n",
       "      <td>https://br.indeed.com/rc/clk?jk=51a6fdcdd61c48...</td>\n",
       "      <td>O que nos move diariamente?. Todos os dias via...</td>\n",
       "      <td>PESSOA CIENTISTA DE DADOS PLENO</td>\n",
       "      <td>Cientista de Dados</td>\n",
       "      <td>Remoto</td>\n",
       "    </tr>\n",
       "    <tr>\n",
       "      <th>4</th>\n",
       "      <td>5</td>\n",
       "      <td>https://br.indeed.com/rc/clk?jk=41427546a9ab84...</td>\n",
       "      <td>Vaga para nosso BANCO DE TALENTOS. Procuramos ...</td>\n",
       "      <td>Cientista de Dados</td>\n",
       "      <td>Cientista de Dados</td>\n",
       "      <td>Remoto</td>\n",
       "    </tr>\n",
       "  </tbody>\n",
       "</table>\n",
       "</div>"
      ],
      "text/plain": [
       "   id                                        indeed_link  \\\n",
       "0   1  https://br.indeed.com/rc/clk?jk=6ac6aac0697797...   \n",
       "1   2  https://br.indeed.com/rc/clk?jk=45466838932b13...   \n",
       "2   3  https://br.indeed.com/rc/clk?jk=88183160ba6b40...   \n",
       "3   4  https://br.indeed.com/rc/clk?jk=51a6fdcdd61c48...   \n",
       "4   5  https://br.indeed.com/rc/clk?jk=41427546a9ab84...   \n",
       "\n",
       "                                         description  \\\n",
       "0  Somos uma empresa apaixonada por pessoas, paut...   \n",
       "1  Somos uma logtech líder no segmento de transpo...   \n",
       "2  Aqui na Provu, foco, responsabilidade, coopera...   \n",
       "3  O que nos move diariamente?. Todos os dias via...   \n",
       "4  Vaga para nosso BANCO DE TALENTOS. Procuramos ...   \n",
       "\n",
       "                           indeed_title            position location  \n",
       "0  Cientista de Dados - Junior (Remoto)  Cientista de Dados   Remoto  \n",
       "1           CIENTISTA DE DADOS (REMOTO)  Cientista de Dados   Remoto  \n",
       "2              Cientista de Dados Pleno  Cientista de Dados   Remoto  \n",
       "3       PESSOA CIENTISTA DE DADOS PLENO  Cientista de Dados   Remoto  \n",
       "4                    Cientista de Dados  Cientista de Dados   Remoto  "
      ]
     },
     "execution_count": 4,
     "metadata": {},
     "output_type": "execute_result"
    }
   ],
   "source": [
    "query = db.select(job)\n",
    "results = conn.execute(query).fetchall()\n",
    "df = pd.DataFrame(results)\n",
    "df.head()"
   ]
  },
  {
   "cell_type": "code",
   "execution_count": 5,
   "id": "50f3fa09",
   "metadata": {},
   "outputs": [
    {
     "name": "stdout",
     "output_type": "stream",
     "text": [
      "<class 'pandas.core.frame.DataFrame'>\n",
      "RangeIndex: 449 entries, 0 to 448\n",
      "Data columns (total 6 columns):\n",
      " #   Column        Non-Null Count  Dtype \n",
      "---  ------        --------------  ----- \n",
      " 0   id            449 non-null    int64 \n",
      " 1   indeed_link   449 non-null    object\n",
      " 2   description   449 non-null    object\n",
      " 3   indeed_title  449 non-null    object\n",
      " 4   position      449 non-null    object\n",
      " 5   location      449 non-null    object\n",
      "dtypes: int64(1), object(5)\n",
      "memory usage: 21.2+ KB\n"
     ]
    }
   ],
   "source": [
    "df.info()"
   ]
  },
  {
   "cell_type": "code",
   "execution_count": 6,
   "id": "c9812f59",
   "metadata": {},
   "outputs": [
    {
     "data": {
      "text/plain": [
       "'Somos uma logtech líder no segmento de transporte rodoviário de cargas para o setor. Com expertise e tecnologia de ponta, oferecemos soluções para embarcadores, frotistas e caminhoneiros que desejam digitalizar as suas operações. Responsabilidades e atribuições. Conduzir análises e experimentos sobre os dados. Construir e prototipar análises que nos permitam ter insights de otimização de negócios e até mesmo novos modelos ainda não pensados. Deverá desenvolver um conhecimento profundo do contexto da TMOV defendendo seu ponto de vista e sugerindo melhorias nos produtos e processos operacionais. Fazer recomendações de negócios com apresentações executivas e técnicas sempre priorizando formatos visuais com informações quantitativas. Pesquisar e desenvolver modelos preditivos diversos, desde recomendações de fretes, sistemas de pricing, otimizações operacionais e comerciais. Interagir com as áreas incentivando a tomada de decisões sempre baseada em dados em seus diversos níveis de alçada. Requisitos e qualificações. Conhecimento em matemática e estatística. Experiência em construção de modelos usando análise estatística e Machine Learning. Conhecimento em SQL e Python. Ter conhecimento em técnicas e métricas de validação de modelos. Ter experiência em exploração de dados, identificando padrões e tendências que possam ajudar em novos insights. Conhecimento de ferramentas de visualização de dados. Saber interpretar os resultados de um modelo e como ele pode solucionar ou entregar valor ao produto. Saber pesquisar, abstrair e resolver problemas de forma autodidata, tanto de negócio quanto de programação. Inglês - nível básico a intermediário voltado à leitura, escrita e comunicação. Informações adicionais. Benefícios: Contratação Modelo CLT. Plano de Saúde. VA/VR. Day Off. Plataforma de auxílio estudantil. Valores: Foco no caminhoneiro. Aprendemos e Adaptamos. Juntos vamos mais longe. Atuamos com urgência e agilidade. Paixão pelo desafio. Compromisso com resultado de alto impacto. Aqui na Tmov, todos nós temos o compromisso com a proteção geral de dados pessoais e as políticas estabelecidas pela TMOV. É dever de todos nós proteger os direitos fundamentais de liberdade e de privacidade das pessoas. Contamos com vocês para isso. Queremos abrir um caminho digital para o futuro melhor do caminhoneiro e acreditamos que para isso acontecer precisamos de um time formado por pessoas com paixão pelo desafio e que acreditem que juntos iremos mais longe. Mais que isso, contratamos em igualdade para todas as áreas independente de qual seja a sua localização, idade, raça, cor, religião, identidade de gênero, orientação sexual ou formação. Se seus conhecimentos foram aderentes a uma de nossas posições e você se interessou pelos nossos valores, pode se tornar um Tmover e fazer parte da Onda Verde. Nossa missão é levar cada vez mais tecnologia e comodidade para toda e qualquer operação logística no país. Embora estejamos focados em todas as pontas, damos atenção especial para o elo mais fundamental desta cadeia: o caminhoneiro. Nossa visão não poderia ser diferente: abrir o caminho digital para um futuro melhor do caminhoneiro. Honramos nossa cultura. Somos movidos por trazer soluções que impactem todo o mercado de forma positiva.'"
      ]
     },
     "execution_count": 6,
     "metadata": {},
     "output_type": "execute_result"
    }
   ],
   "source": [
    "df.iloc[1].description"
   ]
  },
  {
   "cell_type": "code",
   "execution_count": 7,
   "id": "1d39f2aa",
   "metadata": {},
   "outputs": [
    {
     "data": {
      "text/plain": [
       "'https://br.indeed.com/rc/clk?jk=45466838932b1366&fccid=12ab49f1694345a0&vjs=3'"
      ]
     },
     "execution_count": 7,
     "metadata": {},
     "output_type": "execute_result"
    }
   ],
   "source": [
    "df.iloc[1].indeed_link"
   ]
  },
  {
   "cell_type": "markdown",
   "id": "79b0f2e9",
   "metadata": {},
   "source": [
    "## Get tools with keywords only"
   ]
  },
  {
   "cell_type": "code",
   "execution_count": 8,
   "id": "b1db65c8",
   "metadata": {},
   "outputs": [
    {
     "name": "stdout",
     "output_type": "stream",
     "text": [
      "['id', 'tool', 'tool_group']\n"
     ]
    }
   ],
   "source": [
    "tools = db.Table('tools', metadata, autoload_with=engine)\n",
    "\n",
    "print(tools.columns.keys())"
   ]
  },
  {
   "cell_type": "code",
   "execution_count": 9,
   "id": "f8f0c464",
   "metadata": {},
   "outputs": [
    {
     "data": {
      "text/html": [
       "<div>\n",
       "<style scoped>\n",
       "    .dataframe tbody tr th:only-of-type {\n",
       "        vertical-align: middle;\n",
       "    }\n",
       "\n",
       "    .dataframe tbody tr th {\n",
       "        vertical-align: top;\n",
       "    }\n",
       "\n",
       "    .dataframe thead th {\n",
       "        text-align: right;\n",
       "    }\n",
       "</style>\n",
       "<table border=\"1\" class=\"dataframe\">\n",
       "  <thead>\n",
       "    <tr style=\"text-align: right;\">\n",
       "      <th></th>\n",
       "      <th>id</th>\n",
       "      <th>tool</th>\n",
       "      <th>tool_group</th>\n",
       "    </tr>\n",
       "  </thead>\n",
       "  <tbody>\n",
       "    <tr>\n",
       "      <th>0</th>\n",
       "      <td>1</td>\n",
       "      <td>python</td>\n",
       "      <td>Linguagem</td>\n",
       "    </tr>\n",
       "    <tr>\n",
       "      <th>1</th>\n",
       "      <td>2</td>\n",
       "      <td>r</td>\n",
       "      <td>Linguagem</td>\n",
       "    </tr>\n",
       "    <tr>\n",
       "      <th>2</th>\n",
       "      <td>3</td>\n",
       "      <td>sql</td>\n",
       "      <td>Linguagem</td>\n",
       "    </tr>\n",
       "    <tr>\n",
       "      <th>3</th>\n",
       "      <td>4</td>\n",
       "      <td>java</td>\n",
       "      <td>Linguagem</td>\n",
       "    </tr>\n",
       "    <tr>\n",
       "      <th>4</th>\n",
       "      <td>5</td>\n",
       "      <td>scala</td>\n",
       "      <td>Linguagem</td>\n",
       "    </tr>\n",
       "  </tbody>\n",
       "</table>\n",
       "</div>"
      ],
      "text/plain": [
       "   id    tool tool_group\n",
       "0   1  python  Linguagem\n",
       "1   2       r  Linguagem\n",
       "2   3     sql  Linguagem\n",
       "3   4    java  Linguagem\n",
       "4   5   scala  Linguagem"
      ]
     },
     "execution_count": 9,
     "metadata": {},
     "output_type": "execute_result"
    }
   ],
   "source": [
    "query = db.select(tools)\n",
    "results = conn.execute(query).fetchall()\n",
    "df_tools = pd.DataFrame(results)\n",
    "df_tools.head()"
   ]
  },
  {
   "cell_type": "code",
   "execution_count": 10,
   "id": "5deb686f",
   "metadata": {},
   "outputs": [],
   "source": [
    "hard_skills = {'job_id': [], 'tool_id': []}"
   ]
  },
  {
   "cell_type": "code",
   "execution_count": 11,
   "id": "65f450e2",
   "metadata": {},
   "outputs": [],
   "source": [
    "def remove_ponctuation_lower(x):\n",
    "    x = re.sub(u'[^a-zA-Z0-9áéíóúÁÉÍÓÚâêîôÂÊÎÔãõÃÕçÇ ]', '', x)\n",
    "    return x.lower()"
   ]
  },
  {
   "cell_type": "code",
   "execution_count": 12,
   "id": "3bfb31c1",
   "metadata": {},
   "outputs": [
    {
     "data": {
      "text/plain": [
       "'somos uma logtech líder no segmento de transporte rodoviário de cargas para o setor com expertise e tecnologia de ponta oferecemos soluções para embarcadores frotistas e caminhoneiros que desejam digitalizar as suas operações responsabilidades e atribuições conduzir análises e experimentos sobre os dados construir e prototipar análises que nos permitam ter insights de otimização de negócios e até mesmo novos modelos ainda não pensados deverá desenvolver um conhecimento profundo do contexto da tmov defendendo seu ponto de vista e sugerindo melhorias nos produtos e processos operacionais fazer recomendações de negócios com apresentações executivas e técnicas sempre priorizando formatos visuais com informações quantitativas pesquisar e desenvolver modelos preditivos diversos desde recomendações de fretes sistemas de pricing otimizações operacionais e comerciais interagir com as áreas incentivando a tomada de decisões sempre baseada em dados em seus diversos níveis de alçada requisitos e qualificações conhecimento em matemática e estatística experiência em construção de modelos usando análise estatística e machine learning conhecimento em sql e python ter conhecimento em técnicas e métricas de validação de modelos ter experiência em exploração de dados identificando padrões e tendências que possam ajudar em novos insights conhecimento de ferramentas de visualização de dados saber interpretar os resultados de um modelo e como ele pode solucionar ou entregar valor ao produto saber pesquisar abstrair e resolver problemas de forma autodidata tanto de negócio quanto de programação inglês  nível básico a intermediário voltado  leitura escrita e comunicação informações adicionais benefícios contratação modelo clt plano de saúde vavr day off plataforma de auxílio estudantil valores foco no caminhoneiro aprendemos e adaptamos juntos vamos mais longe atuamos com urgência e agilidade paixão pelo desafio compromisso com resultado de alto impacto aqui na tmov todos nós temos o compromisso com a proteção geral de dados pessoais e as políticas estabelecidas pela tmov é dever de todos nós proteger os direitos fundamentais de liberdade e de privacidade das pessoas contamos com vocês para isso queremos abrir um caminho digital para o futuro melhor do caminhoneiro e acreditamos que para isso acontecer precisamos de um time formado por pessoas com paixão pelo desafio e que acreditem que juntos iremos mais longe mais que isso contratamos em igualdade para todas as áreas independente de qual seja a sua localização idade raça cor religião identidade de gênero orientação sexual ou formação se seus conhecimentos foram aderentes a uma de nossas posições e você se interessou pelos nossos valores pode se tornar um tmover e fazer parte da onda verde nossa missão é levar cada vez mais tecnologia e comodidade para toda e qualquer operação logística no país embora estejamos focados em todas as pontas damos atenção especial para o elo mais fundamental desta cadeia o caminhoneiro nossa visão não poderia ser diferente abrir o caminho digital para um futuro melhor do caminhoneiro honramos nossa cultura somos movidos por trazer soluções que impactem todo o mercado de forma positiva'"
      ]
     },
     "execution_count": 12,
     "metadata": {},
     "output_type": "execute_result"
    }
   ],
   "source": [
    "df['clean_description'] = df['description'].apply(lambda x: remove_ponctuation_lower(x))\n",
    "df.iloc[1].clean_description"
   ]
  },
  {
   "cell_type": "code",
   "execution_count": 13,
   "id": "0296197a",
   "metadata": {},
   "outputs": [
    {
     "data": {
      "text/html": [
       "<div>\n",
       "<style scoped>\n",
       "    .dataframe tbody tr th:only-of-type {\n",
       "        vertical-align: middle;\n",
       "    }\n",
       "\n",
       "    .dataframe tbody tr th {\n",
       "        vertical-align: top;\n",
       "    }\n",
       "\n",
       "    .dataframe thead th {\n",
       "        text-align: right;\n",
       "    }\n",
       "</style>\n",
       "<table border=\"1\" class=\"dataframe\">\n",
       "  <thead>\n",
       "    <tr style=\"text-align: right;\">\n",
       "      <th></th>\n",
       "      <th>job_id</th>\n",
       "      <th>tool_id</th>\n",
       "    </tr>\n",
       "  </thead>\n",
       "  <tbody>\n",
       "    <tr>\n",
       "      <th>0</th>\n",
       "      <td>1</td>\n",
       "      <td>1</td>\n",
       "    </tr>\n",
       "    <tr>\n",
       "      <th>1</th>\n",
       "      <td>1</td>\n",
       "      <td>3</td>\n",
       "    </tr>\n",
       "    <tr>\n",
       "      <th>2</th>\n",
       "      <td>1</td>\n",
       "      <td>40</td>\n",
       "    </tr>\n",
       "    <tr>\n",
       "      <th>3</th>\n",
       "      <td>1</td>\n",
       "      <td>47</td>\n",
       "    </tr>\n",
       "    <tr>\n",
       "      <th>4</th>\n",
       "      <td>1</td>\n",
       "      <td>49</td>\n",
       "    </tr>\n",
       "  </tbody>\n",
       "</table>\n",
       "</div>"
      ],
      "text/plain": [
       "   job_id  tool_id\n",
       "0       1        1\n",
       "1       1        3\n",
       "2       1       40\n",
       "3       1       47\n",
       "4       1       49"
      ]
     },
     "execution_count": 13,
     "metadata": {},
     "output_type": "execute_result"
    }
   ],
   "source": [
    "for i, row in df.iterrows():\n",
    "    for i, tool in df_tools.iterrows():\n",
    "        if \" \" + tool['tool'] + \" \" in row['clean_description']:\n",
    "            hard_skills['job_id'].append(row[\"id\"])\n",
    "            hard_skills['tool_id'].append(tool[\"id\"])\n",
    "        # I noticed a few descriptions with gcp written as google cloud, so I added this exception here.\n",
    "        if tool['tool'] == \"gcp\":\n",
    "            if \" google cloud \" in row['clean_description']:\n",
    "                hard_skills['job_id'].append(row[\"id\"])\n",
    "                hard_skills['tool_id'].append(tool[\"id\"])\n",
    "                \n",
    "df_requirements = pd.DataFrame(hard_skills).drop_duplicates().reset_index(drop=True)\n",
    "df_requirements.head()"
   ]
  },
  {
   "cell_type": "code",
   "execution_count": 14,
   "id": "474d4317",
   "metadata": {},
   "outputs": [
    {
     "name": "stdout",
     "output_type": "stream",
     "text": [
      "<class 'pandas.core.frame.DataFrame'>\n",
      "RangeIndex: 1359 entries, 0 to 1358\n",
      "Data columns (total 2 columns):\n",
      " #   Column   Non-Null Count  Dtype\n",
      "---  ------   --------------  -----\n",
      " 0   job_id   1359 non-null   int64\n",
      " 1   tool_id  1359 non-null   int64\n",
      "dtypes: int64(2)\n",
      "memory usage: 21.4 KB\n"
     ]
    }
   ],
   "source": [
    "df_requirements.info()"
   ]
  },
  {
   "cell_type": "markdown",
   "id": "8ddfcb9e",
   "metadata": {},
   "source": [
    "### Manually random result verification"
   ]
  },
  {
   "cell_type": "code",
   "execution_count": 15,
   "id": "272da9b5",
   "metadata": {},
   "outputs": [
    {
     "data": {
      "text/plain": [
       "'Somos uma logtech líder no segmento de transporte rodoviário de cargas para o setor. Com expertise e tecnologia de ponta, oferecemos soluções para embarcadores, frotistas e caminhoneiros que desejam digitalizar as suas operações. Responsabilidades e atribuições. Conduzir análises e experimentos sobre os dados. Construir e prototipar análises que nos permitam ter insights de otimização de negócios e até mesmo novos modelos ainda não pensados. Deverá desenvolver um conhecimento profundo do contexto da TMOV defendendo seu ponto de vista e sugerindo melhorias nos produtos e processos operacionais. Fazer recomendações de negócios com apresentações executivas e técnicas sempre priorizando formatos visuais com informações quantitativas. Pesquisar e desenvolver modelos preditivos diversos, desde recomendações de fretes, sistemas de pricing, otimizações operacionais e comerciais. Interagir com as áreas incentivando a tomada de decisões sempre baseada em dados em seus diversos níveis de alçada. Requisitos e qualificações. Conhecimento em matemática e estatística. Experiência em construção de modelos usando análise estatística e Machine Learning. Conhecimento em SQL e Python. Ter conhecimento em técnicas e métricas de validação de modelos. Ter experiência em exploração de dados, identificando padrões e tendências que possam ajudar em novos insights. Conhecimento de ferramentas de visualização de dados. Saber interpretar os resultados de um modelo e como ele pode solucionar ou entregar valor ao produto. Saber pesquisar, abstrair e resolver problemas de forma autodidata, tanto de negócio quanto de programação. Inglês - nível básico a intermediário voltado à leitura, escrita e comunicação. Informações adicionais. Benefícios: Contratação Modelo CLT. Plano de Saúde. VA/VR. Day Off. Plataforma de auxílio estudantil. Valores: Foco no caminhoneiro. Aprendemos e Adaptamos. Juntos vamos mais longe. Atuamos com urgência e agilidade. Paixão pelo desafio. Compromisso com resultado de alto impacto. Aqui na Tmov, todos nós temos o compromisso com a proteção geral de dados pessoais e as políticas estabelecidas pela TMOV. É dever de todos nós proteger os direitos fundamentais de liberdade e de privacidade das pessoas. Contamos com vocês para isso. Queremos abrir um caminho digital para o futuro melhor do caminhoneiro e acreditamos que para isso acontecer precisamos de um time formado por pessoas com paixão pelo desafio e que acreditem que juntos iremos mais longe. Mais que isso, contratamos em igualdade para todas as áreas independente de qual seja a sua localização, idade, raça, cor, religião, identidade de gênero, orientação sexual ou formação. Se seus conhecimentos foram aderentes a uma de nossas posições e você se interessou pelos nossos valores, pode se tornar um Tmover e fazer parte da Onda Verde. Nossa missão é levar cada vez mais tecnologia e comodidade para toda e qualquer operação logística no país. Embora estejamos focados em todas as pontas, damos atenção especial para o elo mais fundamental desta cadeia: o caminhoneiro. Nossa visão não poderia ser diferente: abrir o caminho digital para um futuro melhor do caminhoneiro. Honramos nossa cultura. Somos movidos por trazer soluções que impactem todo o mercado de forma positiva.'"
      ]
     },
     "execution_count": 15,
     "metadata": {},
     "output_type": "execute_result"
    }
   ],
   "source": [
    "df.loc[df['id'] == 2].description.values[0]"
   ]
  },
  {
   "cell_type": "code",
   "execution_count": 16,
   "id": "c3543d42",
   "metadata": {},
   "outputs": [
    {
     "data": {
      "text/html": [
       "<div>\n",
       "<style scoped>\n",
       "    .dataframe tbody tr th:only-of-type {\n",
       "        vertical-align: middle;\n",
       "    }\n",
       "\n",
       "    .dataframe tbody tr th {\n",
       "        vertical-align: top;\n",
       "    }\n",
       "\n",
       "    .dataframe thead th {\n",
       "        text-align: right;\n",
       "    }\n",
       "</style>\n",
       "<table border=\"1\" class=\"dataframe\">\n",
       "  <thead>\n",
       "    <tr style=\"text-align: right;\">\n",
       "      <th></th>\n",
       "      <th>job_id</th>\n",
       "      <th>tool_id</th>\n",
       "    </tr>\n",
       "  </thead>\n",
       "  <tbody>\n",
       "    <tr>\n",
       "      <th>7</th>\n",
       "      <td>2</td>\n",
       "      <td>1</td>\n",
       "    </tr>\n",
       "    <tr>\n",
       "      <th>8</th>\n",
       "      <td>2</td>\n",
       "      <td>3</td>\n",
       "    </tr>\n",
       "  </tbody>\n",
       "</table>\n",
       "</div>"
      ],
      "text/plain": [
       "   job_id  tool_id\n",
       "7       2        1\n",
       "8       2        3"
      ]
     },
     "execution_count": 16,
     "metadata": {},
     "output_type": "execute_result"
    }
   ],
   "source": [
    "df_requirements.loc[df_requirements['job_id'] == 2]"
   ]
  },
  {
   "cell_type": "code",
   "execution_count": 17,
   "id": "4cf10267",
   "metadata": {},
   "outputs": [
    {
     "data": {
      "text/html": [
       "<div>\n",
       "<style scoped>\n",
       "    .dataframe tbody tr th:only-of-type {\n",
       "        vertical-align: middle;\n",
       "    }\n",
       "\n",
       "    .dataframe tbody tr th {\n",
       "        vertical-align: top;\n",
       "    }\n",
       "\n",
       "    .dataframe thead th {\n",
       "        text-align: right;\n",
       "    }\n",
       "</style>\n",
       "<table border=\"1\" class=\"dataframe\">\n",
       "  <thead>\n",
       "    <tr style=\"text-align: right;\">\n",
       "      <th></th>\n",
       "      <th>id</th>\n",
       "      <th>tool</th>\n",
       "      <th>tool_group</th>\n",
       "    </tr>\n",
       "  </thead>\n",
       "  <tbody>\n",
       "    <tr>\n",
       "      <th>0</th>\n",
       "      <td>1</td>\n",
       "      <td>python</td>\n",
       "      <td>Linguagem</td>\n",
       "    </tr>\n",
       "    <tr>\n",
       "      <th>1</th>\n",
       "      <td>2</td>\n",
       "      <td>r</td>\n",
       "      <td>Linguagem</td>\n",
       "    </tr>\n",
       "    <tr>\n",
       "      <th>2</th>\n",
       "      <td>3</td>\n",
       "      <td>sql</td>\n",
       "      <td>Linguagem</td>\n",
       "    </tr>\n",
       "    <tr>\n",
       "      <th>3</th>\n",
       "      <td>4</td>\n",
       "      <td>java</td>\n",
       "      <td>Linguagem</td>\n",
       "    </tr>\n",
       "    <tr>\n",
       "      <th>4</th>\n",
       "      <td>5</td>\n",
       "      <td>scala</td>\n",
       "      <td>Linguagem</td>\n",
       "    </tr>\n",
       "  </tbody>\n",
       "</table>\n",
       "</div>"
      ],
      "text/plain": [
       "   id    tool tool_group\n",
       "0   1  python  Linguagem\n",
       "1   2       r  Linguagem\n",
       "2   3     sql  Linguagem\n",
       "3   4    java  Linguagem\n",
       "4   5   scala  Linguagem"
      ]
     },
     "execution_count": 17,
     "metadata": {},
     "output_type": "execute_result"
    }
   ],
   "source": [
    "df_tools.head()"
   ]
  },
  {
   "cell_type": "markdown",
   "id": "d3ac76a9",
   "metadata": {},
   "source": [
    "### Insert requirements into MySQL"
   ]
  },
  {
   "cell_type": "code",
   "execution_count": 18,
   "id": "ef284735",
   "metadata": {},
   "outputs": [
    {
     "name": "stdout",
     "output_type": "stream",
     "text": [
      "['id', 'job_id', 'tool_id']\n"
     ]
    }
   ],
   "source": [
    "metadata = db.MetaData()\n",
    "requirements = db.Table('job_requirements', metadata, autoload_with=engine)\n",
    "\n",
    "print(requirements.columns.keys())"
   ]
  },
  {
   "cell_type": "code",
   "execution_count": 19,
   "id": "226c492d",
   "metadata": {},
   "outputs": [
    {
     "data": {
      "text/html": [
       "<div>\n",
       "<style scoped>\n",
       "    .dataframe tbody tr th:only-of-type {\n",
       "        vertical-align: middle;\n",
       "    }\n",
       "\n",
       "    .dataframe tbody tr th {\n",
       "        vertical-align: top;\n",
       "    }\n",
       "\n",
       "    .dataframe thead th {\n",
       "        text-align: right;\n",
       "    }\n",
       "</style>\n",
       "<table border=\"1\" class=\"dataframe\">\n",
       "  <thead>\n",
       "    <tr style=\"text-align: right;\">\n",
       "      <th></th>\n",
       "      <th>job_id</th>\n",
       "      <th>tool_id</th>\n",
       "    </tr>\n",
       "  </thead>\n",
       "  <tbody>\n",
       "    <tr>\n",
       "      <th>0</th>\n",
       "      <td>1</td>\n",
       "      <td>1</td>\n",
       "    </tr>\n",
       "    <tr>\n",
       "      <th>1</th>\n",
       "      <td>1</td>\n",
       "      <td>3</td>\n",
       "    </tr>\n",
       "    <tr>\n",
       "      <th>2</th>\n",
       "      <td>1</td>\n",
       "      <td>40</td>\n",
       "    </tr>\n",
       "    <tr>\n",
       "      <th>3</th>\n",
       "      <td>1</td>\n",
       "      <td>47</td>\n",
       "    </tr>\n",
       "    <tr>\n",
       "      <th>4</th>\n",
       "      <td>1</td>\n",
       "      <td>49</td>\n",
       "    </tr>\n",
       "  </tbody>\n",
       "</table>\n",
       "</div>"
      ],
      "text/plain": [
       "   job_id  tool_id\n",
       "0       1        1\n",
       "1       1        3\n",
       "2       1       40\n",
       "3       1       47\n",
       "4       1       49"
      ]
     },
     "execution_count": 19,
     "metadata": {},
     "output_type": "execute_result"
    }
   ],
   "source": [
    "query = db.select(requirements)\n",
    "results = conn.execute(query).fetchall()\n",
    "current_req = pd.DataFrame(results)\n",
    "current_req.drop(\"id\", axis=1, inplace=True)\n",
    "current_req.head()"
   ]
  },
  {
   "cell_type": "code",
   "execution_count": 20,
   "id": "c28758b1",
   "metadata": {},
   "outputs": [
    {
     "data": {
      "text/plain": [
       "(169, 2)"
      ]
     },
     "execution_count": 20,
     "metadata": {},
     "output_type": "execute_result"
    }
   ],
   "source": [
    "# Remove the rows from the dataframe that are already in the DB\n",
    "new_req = pd.concat([current_req, df_requirements]).drop_duplicates(keep=False)\n",
    "new_req.shape"
   ]
  },
  {
   "cell_type": "code",
   "execution_count": 21,
   "id": "1f4d127a",
   "metadata": {},
   "outputs": [],
   "source": [
    "for i, row in new_req.iterrows():\n",
    "    try:\n",
    "        stmt = db.insert(requirements).values(job_id=row['job_id'], tool_id=row['tool_id'])\n",
    "\n",
    "        conn.execute(stmt) \n",
    "        conn.commit()    \n",
    "    except Exception as e:        \n",
    "        print(f\"Não foi possível inserir o regristro {i}. O erro foi encontrado foi: {e}\")"
   ]
  },
  {
   "cell_type": "code",
   "execution_count": null,
   "id": "47a4adb1",
   "metadata": {},
   "outputs": [],
   "source": []
  }
 ],
 "metadata": {
  "kernelspec": {
   "display_name": "Python 3 (ipykernel)",
   "language": "python",
   "name": "python3"
  },
  "language_info": {
   "codemirror_mode": {
    "name": "ipython",
    "version": 3
   },
   "file_extension": ".py",
   "mimetype": "text/x-python",
   "name": "python",
   "nbconvert_exporter": "python",
   "pygments_lexer": "ipython3",
   "version": "3.10.9"
  }
 },
 "nbformat": 4,
 "nbformat_minor": 5
}
